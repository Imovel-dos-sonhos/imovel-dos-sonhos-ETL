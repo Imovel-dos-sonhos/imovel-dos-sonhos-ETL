{
 "cells": [
  {
   "cell_type": "code",
   "execution_count": 12,
   "id": "23081635",
   "metadata": {},
   "outputs": [],
   "source": [
    "import datetime\n",
    "from selenium import webdriver\n",
    "from selenium.webdriver.chrome.service import Service\n",
    "from selenium.webdriver.chrome.options import Options\n",
    "from webdriver_manager.chrome import ChromeDriverManager\n",
    "import os\n",
    "import time\n",
    "\n",
    "urlDeDownloadArquivos = \"https://venda-imoveis.caixa.gov.br/listaweb/Lista_imoveis_DF.csv?605127620\"\n",
    "diretorioDeArquivos = os.path.join(os.getcwd(), \"files\")\n",
    "os.makedirs(diretorioDeArquivos, exist_ok=True)\n",
    "\n",
    "chrome_options = Options()\n",
    "#chrome_options.add_argument(\"--headless=new\")\n",
    "chrome_options.add_argument(\"--no-sandbox\")\n",
    "chrome_options.add_argument(\"--disable-dev-shm-usage\")\n",
    "\n",
    "prefs = {\n",
    "    \"download.default_directory\": diretorioDeArquivos,\n",
    "    \"download.prompt_for_download\": False,\n",
    "    \"download.directory_upgrade\": True,\n",
    "    \"safebrowsing.enabled\": True,\n",
    "}\n",
    "chrome_options.add_experimental_option(\"prefs\", prefs)\n",
    "\n",
    "service = Service(ChromeDriverManager().install())\n",
    "driver = webdriver.Chrome(service=service, options=chrome_options)\n",
    "\n",
    "driver.get(urlDeDownloadArquivos)\n",
    "time.sleep(5)\n",
    "driver.quit()\n",
    "\n",
    "arquivoOriginal = os.path.join(diretorioDeArquivos, \"Lista_imoveis_DF.csv\")\n",
    "dataHoraMinuto = datetime.datetime.now().strftime(\"%d%m%Y%H%M%S\")\n",
    "nomeArquivoComDataImportacao = f\"imoveis_{dataHoraMinuto}.csv\"\n",
    "novoArquivo = os.path.join(diretorioDeArquivos, nomeArquivoComDataImportacao)\n",
    "os.rename(arquivoOriginal, novoArquivo)"
   ]
  }
 ],
 "metadata": {
  "kernelspec": {
   "display_name": ".venv",
   "language": "python",
   "name": "python3"
  },
  "language_info": {
   "codemirror_mode": {
    "name": "ipython",
    "version": 3
   },
   "file_extension": ".py",
   "mimetype": "text/x-python",
   "name": "python",
   "nbconvert_exporter": "python",
   "pygments_lexer": "ipython3",
   "version": "3.8.10"
  }
 },
 "nbformat": 4,
 "nbformat_minor": 5
}
